{
 "metadata": {
  "language_info": {
   "codemirror_mode": {
    "name": "ipython",
    "version": 3
   },
   "file_extension": ".py",
   "mimetype": "text/x-python",
   "name": "python",
   "nbconvert_exporter": "python",
   "pygments_lexer": "ipython3",
   "version": "3.8.5"
  },
  "orig_nbformat": 2,
  "kernelspec": {
   "name": "python385jvsc74a57bd0767d51c1340bd893661ea55ea3124f6de3c7a262a8b4abca0554b478b1e2ff90",
   "display_name": "Python 3.8.5 64-bit"
  }
 },
 "nbformat": 4,
 "nbformat_minor": 2,
 "cells": [
  {
   "cell_type": "code",
   "execution_count": 4,
   "metadata": {},
   "outputs": [],
   "source": [
    "import torchvision\n",
    "from torchvision import transforms\n",
    "import random\n",
    "import os\n",
    "import glob\n",
    "import PIL.Image as Image"
   ]
  },
  {
   "cell_type": "code",
   "execution_count": 5,
   "metadata": {},
   "outputs": [],
   "source": [
    "transforms_train = transforms.Compose([\n",
    "        transforms.Resize(640)\n",
    "])\n",
    "\n",
    "transforms_test = transforms.Compose([\n",
    "    transforms.Resize(640),\n",
    "    transforms.RandomAffine(360,scale=[0.5, 0.8]),\n",
    "    transforms.CenterCrop(224),\n",
    "    transforms.ColorJitter(brightness=0.1,contrast=0.2,saturation=0.2,hue=0.1),\n",
    "    transforms.RandomHorizontalFlip(0.5),\n",
    "])"
   ]
  },
  {
   "cell_type": "code",
   "execution_count": 3,
   "metadata": {
    "tags": []
   },
   "outputs": [
    {
     "output_type": "stream",
     "name": "stdout",
     "text": [
      "Species: Aedes albopictus, TrainVal:360 , Test:240\n",
      "Species: Anopheles sinensis, TrainVal:356 , Test:237\n",
      "Species: Culex pipiens, TrainVal:360 , Test:240\n",
      "Species: Culex tritaeniorhynchus, TrainVal:357 , Test:237\n",
      "Species: Non vectors, TrainVal:360 , Test:240\n",
      "Species: Aedes vexans, TrainVal:355 , Test:236\n"
     ]
    },
    {
     "output_type": "error",
     "ename": "FileNotFoundError",
     "evalue": "[Errno 2] No such file or directory: './augmented/Test/Aedes vexans/Aedes vexans_103_4.jpg'",
     "traceback": [
      "\u001b[0;31m---------------------------------------------------------------------------\u001b[0m",
      "\u001b[0;31mFileNotFoundError\u001b[0m                         Traceback (most recent call last)",
      "\u001b[0;32m<ipython-input-3-c7ff67820c35>\u001b[0m in \u001b[0;36m<module>\u001b[0;34m\u001b[0m\n\u001b[1;32m     28\u001b[0m                 \u001b[0mimg\u001b[0m \u001b[0;34m=\u001b[0m \u001b[0mImage\u001b[0m\u001b[0;34m.\u001b[0m\u001b[0mopen\u001b[0m\u001b[0;34m(\u001b[0m\u001b[0mimg_path\u001b[0m\u001b[0;34m)\u001b[0m\u001b[0;34m\u001b[0m\u001b[0;34m\u001b[0m\u001b[0m\n\u001b[1;32m     29\u001b[0m                 \u001b[0mgen_image\u001b[0m \u001b[0;34m=\u001b[0m \u001b[0mtransforms_test\u001b[0m\u001b[0;34m(\u001b[0m\u001b[0mimg\u001b[0m\u001b[0;34m)\u001b[0m\u001b[0;34m\u001b[0m\u001b[0;34m\u001b[0m\u001b[0m\n\u001b[0;32m---> 30\u001b[0;31m                 \u001b[0mgen_image\u001b[0m\u001b[0;34m.\u001b[0m\u001b[0msave\u001b[0m\u001b[0;34m(\u001b[0m\u001b[0mos\u001b[0m\u001b[0;34m.\u001b[0m\u001b[0mpath\u001b[0m\u001b[0;34m.\u001b[0m\u001b[0mjoin\u001b[0m\u001b[0;34m(\u001b[0m\u001b[0mnew_image_path\u001b[0m\u001b[0;34m,\u001b[0m \u001b[0;34mf\"{species}_{i}_{j}.jpg\"\u001b[0m\u001b[0;34m)\u001b[0m\u001b[0;34m)\u001b[0m\u001b[0;34m\u001b[0m\u001b[0;34m\u001b[0m\u001b[0m\n\u001b[0m\u001b[1;32m     31\u001b[0m         \u001b[0;32melse\u001b[0m\u001b[0;34m:\u001b[0m\u001b[0;34m\u001b[0m\u001b[0;34m\u001b[0m\u001b[0m\n\u001b[1;32m     32\u001b[0m             \u001b[0;31m# TrainVal Set\u001b[0m\u001b[0;34m\u001b[0m\u001b[0;34m\u001b[0m\u001b[0;34m\u001b[0m\u001b[0m\n",
      "\u001b[0;32m~/.local/lib/python3.8/site-packages/PIL/Image.py\u001b[0m in \u001b[0;36msave\u001b[0;34m(self, fp, format, **params)\u001b[0m\n\u001b[1;32m   2159\u001b[0m                 \u001b[0mfp\u001b[0m \u001b[0;34m=\u001b[0m \u001b[0mbuiltins\u001b[0m\u001b[0;34m.\u001b[0m\u001b[0mopen\u001b[0m\u001b[0;34m(\u001b[0m\u001b[0mfilename\u001b[0m\u001b[0;34m,\u001b[0m \u001b[0;34m\"r+b\"\u001b[0m\u001b[0;34m)\u001b[0m\u001b[0;34m\u001b[0m\u001b[0;34m\u001b[0m\u001b[0m\n\u001b[1;32m   2160\u001b[0m             \u001b[0;32melse\u001b[0m\u001b[0;34m:\u001b[0m\u001b[0;34m\u001b[0m\u001b[0;34m\u001b[0m\u001b[0m\n\u001b[0;32m-> 2161\u001b[0;31m                 \u001b[0mfp\u001b[0m \u001b[0;34m=\u001b[0m \u001b[0mbuiltins\u001b[0m\u001b[0;34m.\u001b[0m\u001b[0mopen\u001b[0m\u001b[0;34m(\u001b[0m\u001b[0mfilename\u001b[0m\u001b[0;34m,\u001b[0m \u001b[0;34m\"w+b\"\u001b[0m\u001b[0;34m)\u001b[0m\u001b[0;34m\u001b[0m\u001b[0;34m\u001b[0m\u001b[0m\n\u001b[0m\u001b[1;32m   2162\u001b[0m \u001b[0;34m\u001b[0m\u001b[0m\n\u001b[1;32m   2163\u001b[0m         \u001b[0;32mtry\u001b[0m\u001b[0;34m:\u001b[0m\u001b[0;34m\u001b[0m\u001b[0;34m\u001b[0m\u001b[0m\n",
      "\u001b[0;31mFileNotFoundError\u001b[0m: [Errno 2] No such file or directory: './augmented/Test/Aedes vexans/Aedes vexans_103_4.jpg'"
     ]
    }
   ],
   "source": [
    "data_root = '/mnt/sda2/MosquitoRAW'\n",
    "\n",
    "output_path = './augmented'\n",
    "os.makedirs(output_path, exist_ok=True)\n",
    "\n",
    "species_dirs = os.listdir(data_root)[1:]\n",
    "\n",
    "test_split_ratio = 0.3\n",
    "\n",
    "for species in species_dirs:\n",
    "    specimen_root = os.path.join(data_root, species)\n",
    "    \n",
    "    img_path_list = glob.glob(specimen_root+\"/*.JPG\")\n",
    "\n",
    "    n_test_images = int(test_split_ratio * len(img_path_list))\n",
    "    print(f\"Species: {species}, TrainVal:{len(img_path_list) - n_test_images} , Test:{n_test_images}\")\n",
    "    \n",
    "    random.shuffle(img_path_list)\n",
    "\n",
    "    for i, img_path in enumerate(img_path_list):\n",
    "        \n",
    "        if i < n_test_images:\n",
    "            # Test Set\n",
    "            new_image_path = os.path.join(output_path, 'Test', species)\n",
    "            os.makedirs(new_image_path, exist_ok=True)\n",
    "\n",
    "            for j in range(5): # 5 Times Augmentation\n",
    "                img = Image.open(img_path)\n",
    "                gen_image = transforms_test(img)\n",
    "                gen_image.save(os.path.join(new_image_path, f\"{species}_{i}_{j}.jpg\"))\n",
    "        else:\n",
    "            # TrainVal Set\n",
    "            new_image_path = os.path.join(output_path, 'TrainVal', species)\n",
    "            os.makedirs(new_image_path, exist_ok=True)\n",
    "\n",
    "            img = Image.open(img_path)\n",
    "            gen_image = transforms_train(img)\n",
    "            gen_image.save(os.path.join(new_image_path, f\"{species}_{i}.jpg\"))\n"
   ]
  }
 ]
}