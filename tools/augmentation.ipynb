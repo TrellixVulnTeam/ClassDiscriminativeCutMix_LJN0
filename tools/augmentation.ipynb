{
 "metadata": {
  "language_info": {
   "codemirror_mode": {
    "name": "ipython",
    "version": 3
   },
   "file_extension": ".py",
   "mimetype": "text/x-python",
   "name": "python",
   "nbconvert_exporter": "python",
   "pygments_lexer": "ipython3",
   "version": "3.8.5"
  },
  "orig_nbformat": 2,
  "kernelspec": {
   "name": "python385jvsc74a57bd0767d51c1340bd893661ea55ea3124f6de3c7a262a8b4abca0554b478b1e2ff90",
   "display_name": "Python 3.8.5 64-bit"
  },
  "metadata": {
   "interpreter": {
    "hash": "767d51c1340bd893661ea55ea3124f6de3c7a262a8b4abca0554b478b1e2ff90"
   }
  }
 },
 "nbformat": 4,
 "nbformat_minor": 2,
 "cells": [
  {
   "cell_type": "code",
   "execution_count": 1,
   "metadata": {},
   "outputs": [],
   "source": [
    "import torchvision\n",
    "from torchvision import transforms\n",
    "import random\n",
    "import os\n",
    "import glob\n",
    "import PIL.Image as Image"
   ]
  },
  {
   "cell_type": "code",
   "execution_count": 2,
   "metadata": {},
   "outputs": [],
   "source": [
    "transforms_train = transforms.Compose([\n",
    "        transforms.Resize(420)\n",
    "])\n",
    "\n",
    "transforms_test = transforms.Compose([\n",
    "    transforms.Resize(420),\n",
    "    transforms.RandomAffine(360,scale=[0.5, 0.8]),\n",
    "    # transforms.CenterCrop(224),\n",
    "    transforms.ColorJitter(brightness=0.2,contrast=0.4,saturation=0.4,hue=0.2),\n",
    "    transforms.RandomHorizontalFlip(0.5),\n",
    "    transforms.RandomVerticalFlip(0.5),\n",
    "])"
   ]
  },
  {
   "cell_type": "code",
   "execution_count": 3,
   "metadata": {
    "tags": []
   },
   "outputs": [
    {
     "output_type": "error",
     "ename": "FileNotFoundError",
     "evalue": "[Errno 2] No such file or directory: '/mnt/sda2/MosquitoRAW'",
     "traceback": [
      "\u001b[0;31m---------------------------------------------------------------------------\u001b[0m",
      "\u001b[0;31mFileNotFoundError\u001b[0m                         Traceback (most recent call last)",
      "\u001b[0;32m<ipython-input-3-7530794bd697>\u001b[0m in \u001b[0;36m<module>\u001b[0;34m\u001b[0m\n\u001b[1;32m      4\u001b[0m \u001b[0mos\u001b[0m\u001b[0;34m.\u001b[0m\u001b[0mmakedirs\u001b[0m\u001b[0;34m(\u001b[0m\u001b[0moutput_path\u001b[0m\u001b[0;34m,\u001b[0m \u001b[0mexist_ok\u001b[0m\u001b[0;34m=\u001b[0m\u001b[0;32mTrue\u001b[0m\u001b[0;34m)\u001b[0m\u001b[0;34m\u001b[0m\u001b[0;34m\u001b[0m\u001b[0m\n\u001b[1;32m      5\u001b[0m \u001b[0;34m\u001b[0m\u001b[0m\n\u001b[0;32m----> 6\u001b[0;31m \u001b[0mspecies_dirs\u001b[0m \u001b[0;34m=\u001b[0m \u001b[0mos\u001b[0m\u001b[0;34m.\u001b[0m\u001b[0mlistdir\u001b[0m\u001b[0;34m(\u001b[0m\u001b[0mdata_root\u001b[0m\u001b[0;34m)\u001b[0m\u001b[0;34m[\u001b[0m\u001b[0;36m1\u001b[0m\u001b[0;34m:\u001b[0m\u001b[0;34m]\u001b[0m\u001b[0;34m\u001b[0m\u001b[0;34m\u001b[0m\u001b[0m\n\u001b[0m\u001b[1;32m      7\u001b[0m \u001b[0;34m\u001b[0m\u001b[0m\n\u001b[1;32m      8\u001b[0m \u001b[0mtest_split_ratio\u001b[0m \u001b[0;34m=\u001b[0m \u001b[0;36m0.4\u001b[0m\u001b[0;34m\u001b[0m\u001b[0;34m\u001b[0m\u001b[0m\n",
      "\u001b[0;31mFileNotFoundError\u001b[0m: [Errno 2] No such file or directory: '/mnt/sda2/MosquitoRAW'"
     ]
    }
   ],
   "source": [
    "data_root = '/mnt/sda2/MosquitoRAW'\n",
    "\n",
    "output_path = '~/datasets/MosquitoDL_V3'\n",
    "os.makedirs(output_path, exist_ok=True)\n",
    "\n",
    "species_dirs = os.listdir(data_root)[1:]\n",
    "\n",
    "test_split_ratio = 0.4\n",
    "\n",
    "for species in species_dirs:\n",
    "    specimen_root = os.path.join(data_root, species)\n",
    "    \n",
    "    img_path_list = glob.glob(specimen_root+\"/*.JPG\")\n",
    "\n",
    "    n_test_images = int(test_split_ratio * len(img_path_list))\n",
    "    print(f\"Species: {species}, TrainVal:{len(img_path_list) - n_test_images} , Test:{n_test_images}\")\n",
    "    \n",
    "    random.shuffle(img_path_list)\n",
    "\n",
    "    for i, img_path in enumerate(img_path_list):\n",
    "        \n",
    "        if i < n_test_images:\n",
    "            # Test Set\n",
    "            new_image_path = os.path.join(output_path, 'valid', species)\n",
    "            os.makedirs(new_image_path, exist_ok=True)\n",
    "\n",
    "            for j in range(5): # 5 Times Augmentation\n",
    "                img = Image.open(img_path)\n",
    "                gen_image = transforms_test(img)\n",
    "                gen_image.save(os.path.join(new_image_path, f\"{species}_{i}_{j}.jpg\"))\n",
    "        else:\n",
    "            # TrainVal Set\n",
    "            new_image_path = os.path.join(output_path, 'train', species)\n",
    "            os.makedirs(new_image_path, exist_ok=True)\n",
    "\n",
    "            img = Image.open(img_path)\n",
    "            gen_image = transforms_train(img)\n",
    "            gen_image.save(os.path.join(new_image_path, f\"{species}_{i}.jpg\"))\n"
   ]
  }
 ]
}