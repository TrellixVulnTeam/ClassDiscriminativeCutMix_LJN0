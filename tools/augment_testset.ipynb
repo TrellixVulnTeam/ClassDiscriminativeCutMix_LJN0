{
 "metadata": {
  "language_info": {
   "codemirror_mode": {
    "name": "ipython",
    "version": 3
   },
   "file_extension": ".py",
   "mimetype": "text/x-python",
   "name": "python",
   "nbconvert_exporter": "python",
   "pygments_lexer": "ipython3",
   "version": "3.8.5"
  },
  "orig_nbformat": 2,
  "kernelspec": {
   "name": "python385jvsc74a57bd0767d51c1340bd893661ea55ea3124f6de3c7a262a8b4abca0554b478b1e2ff90",
   "display_name": "Python 3.8.5 64-bit ('usr')"
  },
  "metadata": {
   "interpreter": {
    "hash": "767d51c1340bd893661ea55ea3124f6de3c7a262a8b4abca0554b478b1e2ff90"
   }
  }
 },
 "nbformat": 4,
 "nbformat_minor": 2,
 "cells": [
  {
   "cell_type": "code",
   "execution_count": 1,
   "metadata": {},
   "outputs": [],
   "source": [
    "import torchvision\n",
    "from torchvision import transforms\n",
    "import random\n",
    "import os\n",
    "import glob\n",
    "import PIL.Image as Image"
   ]
  },
  {
   "cell_type": "code",
   "execution_count": 2,
   "metadata": {},
   "outputs": [],
   "source": [
    "transforms_test = transforms.Compose([\n",
    "    transforms.RandomHorizontalFlip(1),\n",
    "])"
   ]
  },
  {
   "cell_type": "code",
   "execution_count": 3,
   "metadata": {
    "tags": []
   },
   "outputs": [
    {
     "output_type": "stream",
     "name": "stdout",
     "text": [
      "['Aedes albopictus', 'Aedes vexans', 'Anopheles sinensis', 'Culex pipiens', 'Culex tritaeniorhynchus', 'Non vectors']\n"
     ]
    }
   ],
   "source": [
    "test_root = '/home/ryan/datasets/MosquitoDL_TestAug/valid'\n",
    "\n",
    "species_dirs = os.listdir(test_root)[:]\n",
    "species_dirs.sort()\n",
    "\n",
    "print(species_dirs)\n",
    "\n",
    "for species in species_dirs:\n",
    "    species_dir = os.path.join(test_root, species)\n",
    "\n",
    "    image_list = glob.glob(species_dir + \"/*.JPG\")\n",
    "\n",
    "    for img_path in image_list:\n",
    "        if '_Hflip' in img_path or '_Vflip' in img_path:\n",
    "            continue\n",
    "        img = Image.open(img_path)\n",
    "        img_tr = transforms_test(img)\n",
    "        output_name = img_path.replace(\".JPG\", \"_Hflip.JPG\")\n",
    "        img_tr.save(output_name)"
   ]
  }
 ]
}