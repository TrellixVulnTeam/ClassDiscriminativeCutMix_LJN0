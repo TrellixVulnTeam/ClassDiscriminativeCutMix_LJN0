{
 "metadata": {
  "language_info": {
   "codemirror_mode": {
    "name": "ipython",
    "version": 3
   },
   "file_extension": ".py",
   "mimetype": "text/x-python",
   "name": "python",
   "nbconvert_exporter": "python",
   "pygments_lexer": "ipython3",
   "version": "3.8.5"
  },
  "orig_nbformat": 2,
  "kernelspec": {
   "name": "python385jvsc74a57bd0767d51c1340bd893661ea55ea3124f6de3c7a262a8b4abca0554b478b1e2ff90",
   "display_name": "Python 3.8.5 64-bit"
  }
 },
 "nbformat": 4,
 "nbformat_minor": 2,
 "cells": [
  {
   "cell_type": "code",
   "execution_count": 1,
   "metadata": {},
   "outputs": [
    {
     "output_type": "stream",
     "name": "stdout",
     "text": [
      "[R50_Mosquito_CACM_CamLikely_CutA_K10_P01_L5e-3_W4E-5] \t\t - Training: 2/5\n\n[R50_Mosquito_CACM_CamLikely_CutA_K15_P01_L5e-3_W4E-5] \t\t - Training: 1/5\n\n[R50_Mosquito_CACM_CamLikely_CutA_K20_P01_L5e-3_W4E-5] \t\t - Training: 2/5\n\n[R50_Mosquito_CACM_CamLikely_CutA_K5_P01_L5e-3_W4E-5] \t\t - Training: 2/5\n\n"
     ]
    }
   ],
   "source": [
    "import glob\n",
    "\n",
    "outputs = glob.glob('/home/ryan/backup/CutMix-PyTorch/results/R50_Mosquito_CACM_CamLabel_CutA_L5E-3')\n",
    "outputs.sort()\n",
    "\n",
    "for o in outputs:\n",
    "    with open(o,'r') as f:\n",
    "        name = o.split('/')[-2]\n",
    "        text = f.readlines()\n",
    "        print(f\"[{name}] {text[-1]}\") "
   ]
  }
 ]
}